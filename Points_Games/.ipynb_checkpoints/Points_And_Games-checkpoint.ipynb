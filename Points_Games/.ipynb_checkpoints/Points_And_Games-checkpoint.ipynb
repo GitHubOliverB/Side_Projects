{
 "cells": [
  {
   "cell_type": "markdown",
   "metadata": {},
   "source": [
    "# Example on how many winning games it will take you on average to reach certain number of points\n",
    "\n",
    "## Assumptions\n",
    "\n",
    "    * Points per game are statistical independent.\n",
    "    * Points per game follow a gaussian distribution"
   ]
  },
  {
   "cell_type": "code",
   "execution_count": 219,
   "metadata": {},
   "outputs": [],
   "source": [
    "# Basic Python Libs\n",
    "import os\n",
    "import sys\n",
    "import csv\n",
    "import pydotplus\n",
    "import plotly\n",
    "import numpy as np\n",
    "import pandas as pd\n",
    "import seaborn as sns\n",
    "from matplotlib import pyplot as plt\n",
    "from matplotlib.ticker import MaxNLocator"
   ]
  },
  {
   "cell_type": "code",
   "execution_count": 220,
   "metadata": {},
   "outputs": [],
   "source": [
    "# Define Global Variables for example\n",
    "N_events_example, mu_example, sigma_example = 1000000, 10 , 2\n",
    "index_count_example = []\n",
    "points_total_example = 0"
   ]
  },
  {
   "cell_type": "code",
   "execution_count": 221,
   "metadata": {},
   "outputs": [],
   "source": [
    "# Draw values from gaussian\n",
    "points_list_example = np.random.normal(mu_example, sigma_example, N_events_example)"
   ]
  },
  {
   "cell_type": "markdown",
   "metadata": {},
   "source": [
    "# Display Distribution\n",
    "What we will see is that roughly 2/3 of all values lie in [8,12], since we have chosen our $\\mu$ and $\\sigma$ accordingly."
   ]
  },
  {
   "cell_type": "code",
   "execution_count": 222,
   "metadata": {
    "scrolled": true
   },
   "outputs": [
    {
     "data": {
      "image/png": "[encoded data removed]",
      "text/plain": [
       "<Figure size 432x288 with 1 Axes>"
      ]
     },
     "metadata": {
      "needs_background": "light"
     },
     "output_type": "display_data"
    }
   ],
   "source": [
    "# Plot\n",
    "plt.hist(points_list_example, range(5,16,1) , density='True', align='left')\n",
    "plt.xlabel('Points')\n",
    "plt.ylabel('Frequency')\n",
    "plt.show()"
   ]
  },
  {
   "cell_type": "markdown",
   "metadata": {},
   "source": [
    "Now we want to see how many winning games we need in a row to reach 50 points."
   ]
  },
  {
   "cell_type": "code",
   "execution_count": 223,
   "metadata": {},
   "outputs": [],
   "source": [
    "# Add up points until reaching 50 points and save index\n",
    "for index, points  in enumerate(points_list_example):\n",
    "    points_total_example += points\n",
    "    if points_total_example >= 50:\n",
    "        index_count_example.append(index+1)\n",
    "        points_total_example = 0"
   ]
  },
  {
   "cell_type": "code",
   "execution_count": 224,
   "metadata": {},
   "outputs": [
    {
     "data": {
      "image/png": "[encoded data removed]",
      "text/plain": [
       "<Figure size 432x288 with 1 Axes>"
      ]
     },
     "metadata": {
      "needs_background": "light"
     },
     "output_type": "display_data"
    },
    {
     "name": "stdout",
     "output_type": "stream",
     "text": [
      "The threshold was reached 181373 times.\n",
      "Observed probability for 4 games: 0.641 %\n",
      "Observed probability for 5 games: 49.469 %\n",
      "Observed probability for 6 games: 47.802 %\n",
      "Observed probability for 7 games: 2.080 %\n",
      "Observed probability for 8 games: 0.008 %\n",
      "The minimum number of games was 4 and that occurred 1162 times.\n",
      "The maximum number of games was 8 and that occurred 15 times.\n"
     ]
    }
   ],
   "source": [
    "# Convert to number of games by subtracting value at index k,k+1\n",
    "games = np.ediff1d(index_count_example)\n",
    "# Plot\n",
    "fig, ax = plt.subplots()\n",
    "plt.hist(games, range(np.min(games),np.max(games)+1,1) , density='True', align='left')\n",
    "plt.xlabel('Games')\n",
    "plt.ylabel('Frequency')\n",
    "ax.xaxis.set_major_locator(MaxNLocator(integer=True))\n",
    "plt.show()\n",
    "print(\"The threshold was reached \" + str(len(games)) + \" times.\")\n",
    "for i in range(np.min(games), np.max(games)+1,1):\n",
    "    print(\"Observed probability for \" + str(i) + \" games: \" + str(format((games == i).sum()*100/len(games), '.3f')) + \" %\")\n",
    "print(\"The minimum number of games was \" + str(np.min(games)) + \" and that occurred \" + str((games == np.min(games)).sum()) + \" times.\")\n",
    "print(\"The maximum number of games was \" + str(np.max(games)) + \" and that occurred \" + str((games == np.max(games)).sum()) + \" times.\")"
   ]
  },
  {
   "cell_type": "markdown",
   "metadata": {},
   "source": [
    "As we can see, roughly 97% of the time it takes 5 or 6 (winning) games (with almost equal probability) to reach the threshold of 50 points.\n",
    "Why is that?\n",
    "\n",
    "Look at the distribution of the sum of points for 3, 4, 5, 6 and 7 games. Since the points for each game are statistically independent, that's simple.\n",
    "\n",
    "For 3 games we find: $\\mu_{3} = 30$, $\\sigma_{3} = \\sqrt{3}*2 \\approx 3.5$ \n",
    "\n",
    "For 4 games we find: $\\mu_{4} = 40$, $\\sigma_{4} = \\sqrt{4}*2 = 4$ \n",
    "\n",
    "For 5 games we find: $\\mu_{5} = 50$, $\\sigma_{5} = \\sqrt{5}*2 \\approx 4.5$\n",
    "\n",
    "For 6 games we find: $\\mu_{6} = 60$, $\\sigma_{6} = \\sqrt{6}*2 \\approx 4.9$\n",
    "\n",
    "For 7 games we find: $\\mu_{7} = 70$, $\\sigma_{7} = \\sqrt{7}*2 \\approx 5.3$\n",
    " \n",
    "Starting with 3 games, it seems quiet impossible to reach 50 points. That requires a $+5.8\\,\\sigma_{3}$ deviation, which corresponds to less than a $1:200.000.000$ chance.\n",
    "If we look at 4 games, we can see that it is highly unlikely to get up to 50 points, since that's a $+2.5\\,\\sigma_{4}$ deviation. That's like a $0.6\\,\\%$ chance.\n",
    "For 5 games it's pretty straight forward... approximately half the time, you will find yourself with at least 50 points.\n",
    "As for 6 games, you'll need a $-2.04\\,\\sigma_{6}$ deviation to not get up to 50 points. That's like a $2.2\\,\\%$ chance. \n",
    "Lastly for 7 games it's pretty rare to not get up to 50 points and comes down to a roughly $1:13.000$ chance. \n",
    "\n",
    "How does that translate to the numbers in the plot? We neglect 1, 2 and 3 games, then:\n",
    "    \n",
    "$100\\,\\%$ of the time, we arrive at 4 games and we actually hit the threshold with a $0.6\\,\\%$ chance.\n",
    "\n",
    "That means we get to the 5th game $99.4\\,\\%$ of the time. Half the time, we don't need a 6th game, so that's a $49.4\\,\\%$ chance.\n",
    "\n",
    "That leaves us with a $50\\,\\%$ chance to need more than 5 games. You know the drill by now. For 6 games it's $47.8\\,\\%$ and for 7 games it's around $2.0\\,\\%$.\n",
    "\n",
    "Great! Now I want to look how things look like after I already played k games!"
   ]
  },
  {
   "cell_type": "code",
   "execution_count": 229,
   "metadata": {},
   "outputs": [],
   "source": [
    "# Define Variables for interesting case\n",
    "N_events, mu, sigma = 1000000, 10, 2\n",
    "threshold_two = 5*mu\n",
    "k, start_k = 2, 18\n",
    "index_count = []\n",
    "points_total_k = 0"
   ]
  },
  {
   "cell_type": "code",
   "execution_count": 230,
   "metadata": {},
   "outputs": [],
   "source": [
    "# Draw values from gaussian\n",
    "points_list = np.random.normal(mu, sigma, N_events)"
   ]
  },
  {
   "cell_type": "code",
   "execution_count": 231,
   "metadata": {},
   "outputs": [],
   "source": [
    "# Add up points until reaching the threshold and save index, starting off with k games.\n",
    "for index_two, points_two  in enumerate(points_list):\n",
    "    points_total_k += points_two\n",
    "    if points_total_k >= threshold_two-start_k:\n",
    "        index_count.append(index_two+k+1)\n",
    "        points_total_k = 0"
   ]
  },
  {
   "cell_type": "code",
   "execution_count": 232,
   "metadata": {},
   "outputs": [
    {
     "data": {
      "image/png": "[encoded data removed]",
      "text/plain": [
       "<Figure size 432x288 with 1 Axes>"
      ]
     },
     "metadata": {
      "needs_background": "light"
     },
     "output_type": "display_data"
    },
    {
     "name": "stdout",
     "output_type": "stream",
     "text": [
      "The threshold was reached 267450 times.\n",
      "Observed probability for 4 games: 0.002 %\n",
      "Observed probability for 5 games: 28.348 %\n",
      "Observed probability for 6 games: 69.400 %\n",
      "Observed probability for 7 games: 2.247 %\n",
      "Observed probability for 8 games: 0.002 %\n",
      "The minimum number of games was 4 and that occurred 6 times.\n",
      "The maximum number of games was 8 and that occurred 6 times.\n"
     ]
    }
   ],
   "source": [
    "# Convert to number of games by subtracting value at index k,k+1\n",
    "games = np.ediff1d(index_count)\n",
    "games += k\n",
    "# Plot\n",
    "fig, ax = plt.subplots()\n",
    "plt.hist(games, range(np.min(games),np.max(games)+1,1) , density='True', align='left')\n",
    "plt.xlabel('Games')\n",
    "plt.ylabel('Frequency')\n",
    "ax.xaxis.set_major_locator(MaxNLocator(integer=True))\n",
    "plt.show()\n",
    "print(\"The threshold was reached \" + str(len(games)) + \" times.\")\n",
    "for i in range(np.min(games), np.max(games)+1,1):\n",
    "    print(\"Observed probability for \" + str(i) + \" games: \" + str(format((games == i).sum()*100/len(games), '.3f')) + \" %\")\n",
    "print(\"The minimum number of games was \" + str(np.min(games)) + \" and that occurred \" + str((games == np.min(games)).sum()) + \" times.\")\n",
    "print(\"The maximum number of games was \" + str(np.max(games)) + \" and that occurred \" + str((games == np.max(games)).sum()) + \" times.\")"
   ]
  }
 ],
 "metadata": {
  "kernelspec": {
   "display_name": "Python 3",
   "language": "python",
   "name": "python3"
  },
  "language_info": {
   "codemirror_mode": {
    "name": "ipython",
    "version": 3
   },
   "file_extension": ".py",
   "mimetype": "text/x-python",
   "name": "python",
   "nbconvert_exporter": "python",
   "pygments_lexer": "ipython3",
   "version": "3.7.4"
  }
 },
 "nbformat": 4,
 "nbformat_minor": 2
}
