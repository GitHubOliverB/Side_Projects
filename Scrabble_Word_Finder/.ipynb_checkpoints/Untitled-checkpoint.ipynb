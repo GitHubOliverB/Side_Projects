{
 "cells": [
  {
   "cell_type": "markdown",
   "metadata": {},
   "source": [
    "## Word per Character - Analysis"
   ]
  },
  {
   "cell_type": "code",
   "execution_count": 66,
   "metadata": {},
   "outputs": [],
   "source": [
    "import numpy as np\n",
    "import pandas as pd\n",
    "import json\n",
    "from matplotlib import pyplot as plt\n",
    "from matplotlib.ticker import MaxNLocator"
   ]
  },
  {
   "cell_type": "code",
   "execution_count": 84,
   "metadata": {},
   "outputs": [
    {
     "name": "stdout",
     "output_type": "stream",
     "text": [
      "0          \"aal\"\n",
      "1          \"aar\"\n",
      "2          \"aas\"\n",
      "3          \"aba\"\n",
      "4          \"abi\"\n",
      "5          \"abo\"\n",
      "6          \"abt\"\n",
      "7          \"ach\"\n",
      "8          \"act\"\n",
      "9          \"ade\"\n",
      "10         \"aga\"\n",
      "11         \"aha\"\n",
      "12         \"ahm\"\n",
      "13         \"ahn\"\n",
      "14         \"ahs\"\n",
      "15         \"air\"\n",
      "16         \"ais\"\n",
      "17         \"aja\"\n",
      "18         \"aki\"\n",
      "19         \"akt\"\n",
      "20         \"alb\"\n",
      "21         \"ale\"\n",
      "22         \"alk\"\n",
      "23         \"all\"\n",
      "24         \"alm\"\n",
      "25         \"alp\"\n",
      "26         \"als\"\n",
      "27         \"alt\"\n",
      "28         \"alu\"\n",
      "29         \"ami\"\n",
      "         ...    \n",
      "612        \"zög\"\n",
      "613        \"zoo\"\n",
      "614        \"zot\"\n",
      "615        \"zug\"\n",
      "616        \"zum\"\n",
      "617        \"zur\"\n",
      "618        \"zwo\"\n",
      "619        \"äff\"\n",
      "620        \"ähm\"\n",
      "621        \"äks\"\n",
      "622        \"äon\"\n",
      "623        \"ära\"\n",
      "624        \"äse\"\n",
      "625        \"äss\"\n",
      "626        \"äst\"\n",
      "627        \"ätz\"\n",
      "628        \"äug\"\n",
      "629        \"übe\"\n",
      "630        \"übt\"\n",
      "631        \"ülk\"\n",
      "632        \"öde\"\n",
      "633        \"öhm\"\n",
      "634        \"öhr\"\n",
      "635        \"öko\"\n",
      "636        \"öle\"\n",
      "637        \"öls\"\n",
      "638        \"ölt\"\n",
      "639        \"öre\"\n",
      "640        \"öse\"\n",
      "641        \"ösi\"\n",
      "Name: 0, Length: 642, dtype: object\n"
     ]
    }
   ],
   "source": [
    "\n",
    "df = pd.read_fwf('words_3_characters_txt.txt', delimiter=\",\", header=None, encoding='utf-8')\n",
    "print(df[0])"
   ]
  },
  {
   "cell_type": "code",
   "execution_count": null,
   "metadata": {},
   "outputs": [],
   "source": []
  }
 ],
 "metadata": {
  "kernelspec": {
   "display_name": "Python 3",
   "language": "python",
   "name": "python3"
  },
  "language_info": {
   "codemirror_mode": {
    "name": "ipython",
    "version": 3
   },
   "file_extension": ".py",
   "mimetype": "text/x-python",
   "name": "python",
   "nbconvert_exporter": "python",
   "pygments_lexer": "ipython3",
   "version": "3.7.4"
  }
 },
 "nbformat": 4,
 "nbformat_minor": 2
}
