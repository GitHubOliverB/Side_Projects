{
 "cells": [
  {
   "cell_type": "code",
   "execution_count": 1,
   "metadata": {},
   "outputs": [],
   "source": [
    "from google_images_download import google_images_download"
   ]
  },
  {
   "cell_type": "code",
   "execution_count": 2,
   "metadata": {},
   "outputs": [
    {
     "name": "stdout",
     "output_type": "stream",
     "text": [
      "\n",
      "Item no.: 1 --> Item name = GamerForLife\n",
      "Evaluating...\n",
      "Starting Download...\n",
      "\n",
      "\n",
      "Unfortunately all 15 could not be downloaded because some images were not downloadable. 0 is all we got for this search filter!\n",
      "\n",
      "Errors: 0\n",
      "\n",
      "({'GamerForLife': []}, 0)\n"
     ]
    }
   ],
   "source": [
    "#instantiate the class\n",
    "engine = google_images_download.googleimagesdownload()\n",
    "argument_dict = {\"keywords\":\"GamerForLife\",\n",
    "                 \"limit\":15,\n",
    "                 \"time_range\":'{\"time_min\":\"05/30/2019\",\"time_max\":\"12/01/2019\"}',\n",
    "                 \"delay\":0.5,\n",
    "                 \"metadata\":True,\n",
    "                 \"extract_metadata\":True\n",
    "                 }\n",
    "\n",
    "paths = engine.download(argument_dict)\n",
    "print(paths)"
   ]
  }
 ],
 "metadata": {
  "kernelspec": {
   "display_name": "Python 3",
   "language": "python",
   "name": "python3"
  },
  "language_info": {
   "codemirror_mode": {
    "name": "ipython",
    "version": 3
   },
   "file_extension": ".py",
   "mimetype": "text/x-python",
   "name": "python",
   "nbconvert_exporter": "python",
   "pygments_lexer": "ipython3",
   "version": "3.7.4"
  }
 },
 "nbformat": 4,
 "nbformat_minor": 2
}
