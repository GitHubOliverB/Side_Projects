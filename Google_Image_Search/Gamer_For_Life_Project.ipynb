{
 "cells": [
  {
   "cell_type": "code",
   "execution_count": 71,
   "metadata": {},
   "outputs": [],
   "source": [
    "from google_images_download import google_images_download"
   ]
  },
  {
   "cell_type": "code",
   "execution_count": 81,
   "metadata": {},
   "outputs": [
    {
     "name": "stdout",
     "output_type": "stream",
     "text": [
      "\n",
      "Item no.: 1 --> Item name = GamerForLife\n",
      "Evaluating...\n",
      "Starting Download...\n",
      "\n",
      "Image Metadata: {'image_format': 'jpg', 'image_height': 529, 'image_width': 1200, 'image_link': 'https://pbs.twimg.com/media/D9capoLWwAA1Tcy.jpg', 'image_description': 'GamerForLife (@Drakunia) | Twitter', 'image_host': 'twitter.com', 'image_source': 'https://twitter.com/drakunia?lang=de', 'image_thumbnail_url': 'https://encrypted-tbn0.gstatic.com/images?q=tbn:ANd9GcT8RgN28VeaVq5bXo5ZKccFKKNAmG5Y8vekMKVfMkp191Y4mX85&s'}\n",
      "Completed Image ====> 1.D9capoLWwAA1Tcy.jpg\n",
      "\n",
      "Image Metadata: {'image_format': '', 'image_height': 560, 'image_width': 960, 'image_link': 'https://lookaside.fbsbx.com/lookaside/crawler/media/?media_id=1506132529439595', 'image_description': 'Gamerforlife - Home | Facebook', 'image_host': 'facebook.com', 'image_source': 'https://www.facebook.com/GamerrForLife/', 'image_thumbnail_url': 'https://encrypted-tbn0.gstatic.com/images?q=tbn:ANd9GcQleIGFBYjbe9nj4h4ONgdw_2nl0PuB5zU5NyEmHdVIFF1Jd4QVqA&s'}\n",
      "Invalid or missing image format. Skipping...\n",
      "\n",
      "Image Metadata: {'image_format': 'jpg', 'image_height': 400, 'image_width': 400, 'image_link': 'https://pbs.twimg.com/profile_images/1141543320205897728/S2Ogv6iC_400x400.jpg', 'image_description': 'GamerForLife (@ShaquilleTaylot) | Twitter', 'image_host': 'twitter.com', 'image_source': 'https://twitter.com/ShaquilleTaylot', 'image_thumbnail_url': 'https://encrypted-tbn0.gstatic.com/images?q=tbn:ANd9GcTjq3yFnU4HY5ap44LAVGzZmq18eg-IFAyvdokguJZMQA6q8qLScQ&s'}\n",
      "Completed Image ====> 2.S2Ogv6iC_400x400.jpg\n",
      "\n",
      "Image Metadata: {'image_format': 'jpg', 'image_height': 480, 'image_width': 480, 'image_link': 'https://scontent.cdninstagram.com/vp/6d5bc2ac66f1d40ece12f90ff8fb885f/5DBC1793/t51.2885-15/e35/c247.0.542.542a/s480x480/65859591_465711957593916_6305808897332046170_n.jpg?_nc_ht=scontent-sea1-1.cdninstagram.com', 'image_description': 'gamerforlife Instagram - Photo and video on Instagram', 'image_host': 'picbear.org', 'image_source': 'https://www.picbear.org/tag/gamerforlife', 'image_thumbnail_url': 'https://encrypted-tbn0.gstatic.com/images?q=tbn:ANd9GcTUSEEdNbfZRCounXaBBSCox3ivulbnx5IwccPr4AzMYHgnKPm0NQ&s'}\n",
      "URLError on an image...trying next one... Error: HTTP Error 403: Forbidden\n",
      "\n",
      "Image Metadata: {'image_format': 'jpg', 'image_height': 400, 'image_width': 400, 'image_link': 'https://pbs.twimg.com/profile_images/724740404185169921/YtoXtTJb_400x400.jpg', 'image_description': 'Gamerforlife (@GameLlife) | Twitter', 'image_host': 'twitter.com', 'image_source': 'https://twitter.com/gamellife', 'image_thumbnail_url': 'https://encrypted-tbn0.gstatic.com/images?q=tbn:ANd9GcT8GiRMWKatMrM-9808pcz9gTFE1-tEbc7kevTgfz5GUQG-VZxyzA&s'}\n",
      "Completed Image ====> 3.YtoXtTJb_400x400.jpg\n",
      "\n",
      "Image Metadata: {'image_format': 'jpg', 'image_height': 400, 'image_width': 225, 'image_link': 'https://pbs.twimg.com/profile_images/1145628524042211328/NIMHsl0t.jpg', 'image_description': 'GamerForlife (@Terron69137822) | Twitter', 'image_host': 'twitter.com', 'image_source': 'https://twitter.com/Terron69137822', 'image_thumbnail_url': 'https://encrypted-tbn0.gstatic.com/images?q=tbn:ANd9GcS_-noCosMzzU0aLSdUs3iR9mE8sdfsuCss7JVT73TJZQR3Ju8CVg&s'}\n",
      "Completed Image ====> 4.NIMHsl0t.jpg\n",
      "\n",
      "Image Metadata: {'image_format': 'jpg', 'image_height': 480, 'image_width': 480, 'image_link': 'https://scontent.cdninstagram.com/vp/c7d0b1f90b7090bddeb6eef355485ec7/5DAAC733/t51.2885-15/e35/s480x480/66608623_123868818863964_8479586707834449985_n.jpg?_nc_ht=scontent-sea1-1.cdninstagram.com', 'image_description': 'gamerforlife Instagram - Photo and video on Instagram', 'image_host': 'picbear.org', 'image_source': 'https://www.picbear.org/tag/gamerforlife', 'image_thumbnail_url': 'https://encrypted-tbn0.gstatic.com/images?q=tbn:ANd9GcRx6R2apzMgliPzKiPORPglwjeHWKN4CidUCR75HVAYDmtvMC51&s'}\n",
      "URLError on an image...trying next one... Error: HTTP Error 403: Forbidden\n",
      "\n",
      "Image Metadata: {'image_format': 'jpg', 'image_height': 838, 'image_width': 1080, 'image_link': 'https://scontent-sea1-1.cdninstagram.com/vp/0f23e96da4167456f3e5081f3aaf7ee4/5DE53792/t51.2885-15/e35/s1080x1080/67107973_627584534316767_2205375496030543780_n.jpg?_nc_ht=scontent-sea1-1.cdninstagram.com&ig_cache_key=MjA5ODc2NTYxNDI2MzkyNjkwNw%3D%3D.2', 'image_description': 'Images tagged with #GamerforLife on instagram', 'image_host': 'pictame.com', 'image_source': 'https://www.pictame.com/tag/GamerforLife', 'image_thumbnail_url': 'https://encrypted-tbn0.gstatic.com/images?q=tbn:ANd9GcTdy0KnNSxEB5njpXJmtF0cEYoGlzQcco31NCycF03-a-6tQ3496Q&s'}\n",
      "Completed Image ====> 5.67107973_627584534316767_2205375496030543780_n.jpg\n",
      "\n",
      "Image Metadata: {'image_format': 'jpg', 'image_height': 640, 'image_width': 640, 'image_link': 'https://scontent-yyz1-1.cdninstagram.com/vp/1a3f0e72375d6c4774cc1bc4488de4ca/5E450572/t51.2885-15/sh0.08/e35/c180.0.1080.1080a/s640x640/71759812_733806653758962_3515273734937378264_n.jpg?_nc_ht=scontent-yyz1-1.cdninstagram.com&_nc_cat=106', 'image_description': 'gamerforlifeð\\x9f\\x8e® Instagram posts (photos and videos) - Instazu.com', 'image_host': 'instazu.com', 'image_source': 'https://www.instazu.com/tag/gamerforlife%F0%9F%8E%AE', 'image_thumbnail_url': 'https://encrypted-tbn0.gstatic.com/images?q=tbn:ANd9GcRYxR7rJbpPIQSN7WAopnkO-ZctNk0qyQzGuuUP1SJiSXr4kbtU&s'}\n",
      "Completed Image ====> 6.71759812_733806653758962_3515273734937378264_n.jpg\n",
      "\n",
      "Image Metadata: {'image_format': 'png', 'image_height': 997, 'image_width': 500, 'image_link': 'https://pics.me.me/23-05-2-instagram-gamerforlife-10gaming-10gam-this-made-me-61280849.png', 'image_description': '2305 2% Instagram #Gamerforlife # 10gaming 10GAM THIS MADE ...', 'image_host': 'me.me', 'image_source': 'https://me.me/i/23-05-2-instagram-gamerforlife-10gaming-10gam-this-made-me-b5e681bab0204b28b24c8bfa40c9f9dc', 'image_thumbnail_url': 'https://encrypted-tbn0.gstatic.com/images?q=tbn:ANd9GcRrsCQuX-fcc7dEaH7KvpiB-o-JKvGsfI9_ub9Y98BZuWqfCFRstQ&s'}\n",
      "Completed Image ====> 7.23-05-2-instagram-gamerforlife-10gaming-10gam-this-made-me-61280849.png\n",
      "\n",
      "Image Metadata: {'image_format': 'jpg', 'image_height': 1200, 'image_width': 1200, 'image_link': 'https://i.pinimg.com/originals/f4/75/30/f47530b7cd6a529c5af1b2c234c58034.jpg', 'image_description': 'ANT PC on | ANT PC | Gaming setup, Pc setup, Game r', 'image_host': 'pinterest.nz', 'image_source': 'https://www.pinterest.nz/pin/302093087506212960/', 'image_thumbnail_url': 'https://encrypted-tbn0.gstatic.com/images?q=tbn:ANd9GcSfX6QBE1A8O6ICNeZcoGGQSYLNfgRPXYW0MABZVw6Yci4UY2A4aA&s'}\n",
      "Completed Image ====> 8.f47530b7cd6a529c5af1b2c234c58034.jpg\n",
      "\n",
      "Image Metadata: {'image_format': 'jpg', 'image_height': 640, 'image_width': 640, 'image_link': 'https://scontent-yyz1-1.cdninstagram.com/vp/1cad546c96b686aaaa63cf556f79d916/5E5EFD6F/t51.2885-15/sh0.08/e35/s640x640/72669377_494265914461318_5903980026319784758_n.jpg?_nc_ht=scontent-yyz1-1.cdninstagram.com&_nc_cat=110', 'image_description': 'gamerforlifeð\\x9f\\x8e® Instagram posts (photos and videos) - Instazu.com', 'image_host': 'instazu.com', 'image_source': 'https://www.instazu.com/tag/gamerforlife%F0%9F%8E%AE', 'image_thumbnail_url': 'https://encrypted-tbn0.gstatic.com/images?q=tbn:ANd9GcT-OtWYsty26WauaX8RthVjeARvGow_DK1S1e44Xg5m9eQ27syd&s'}\n",
      "Completed Image ====> 9.72669377_494265914461318_5903980026319784758_n.jpg\n",
      "\n",
      "Image Metadata: {'image_format': 'jpg', 'image_height': 1334, 'image_width': 750, 'image_link': 'https://scontent-sea1-1.cdninstagram.com/vp/37b5095b7af2c69646f0e3991f555c33/5D411405/t51.12442-15/e35/66922747_376819449533445_3377063212377177261_n.jpg?_nc_ht=scontent-sea1-1.cdninstagram.com&ig_cache_key=MjA5ODM3MTQ0NzYzNDcyMDgxNA%3D%3D.2', 'image_description': 'Images tagged with #GamerforLife on instagram', 'image_host': 'pictame.com', 'image_source': 'https://www.pictame.com/tag/GamerforLife', 'image_thumbnail_url': 'https://encrypted-tbn0.gstatic.com/images?q=tbn:ANd9GcRVVgj9KDvNv_VgEWm6UM53cnHJa7KYir5fZ1IX5U1GGhFtZ8sJfg&s'}\n",
      "URLError on an image...trying next one... Error: HTTP Error 403: Forbidden\n",
      "\n",
      "Image Metadata: {'image_format': 'webp', 'image_height': 300, 'image_width': 300, 'image_link': 'https://p16.muscdn.com/img/musically-maliva-obj/1643075340995589~c5_300x300.webp', 'image_description': 'â\\x96· GamerForlife - @gamer__.girl__.bot TikTok Profile ...', 'image_host': 'tikvid.com', 'image_source': 'https://tikvid.com/gamer__.girl__.bot/tiktok-user/6712100999210845190', 'image_thumbnail_url': 'https://encrypted-tbn0.gstatic.com/images?q=tbn:ANd9GcQsKhs8vktyOEhvCede2o9vgse_It4t6JCvnr6dyOVQCUJSPU2Dag&s'}\n"
     ]
    },
    {
     "name": "stdout",
     "output_type": "stream",
     "text": [
      "Completed Image ====> 10.1643075340995589~c5_300x300.webp\n",
      "\n",
      "Image Metadata: {'image_format': 'jpg', 'image_height': 640, 'image_width': 640, 'image_link': 'https://scontent-yyz1-1.cdninstagram.com/vp/04db973000862bf10ef43e21672c9774/5E44B69D/t51.2885-15/sh0.08/e35/c0.37.1179.1179a/s640x640/72536036_227738084876075_5698386417847862858_n.jpg?_nc_ht=scontent-yyz1-1.cdninstagram.com&_nc_cat=111', 'image_description': 'gamerforlifeð\\x9f\\x8e® Instagram posts (photos and videos) - Instazu.com', 'image_host': 'instazu.com', 'image_source': 'https://www.instazu.com/tag/gamerforlife%F0%9F%8E%AE', 'image_thumbnail_url': 'https://encrypted-tbn0.gstatic.com/images?q=tbn:ANd9GcSSQPDpcfNLAH6exwb2otKMEZKssCA-Whg3q6VvLipmmh2dYggi&s'}\n",
      "Completed Image ====> 11.72536036_227738084876075_5698386417847862858_n.jpg\n",
      "\n",
      "Image Metadata: {'image_format': 'jpg', 'image_height': 400, 'image_width': 400, 'image_link': 'https://pbs.twimg.com/profile_images/1139608202679660545/DB60Y0k__400x400.jpg', 'image_description': 'GamerForLife on Twitter: \"@Boogie2988 @xXBraveShadowXx ...', 'image_host': 'twitter.com', 'image_source': 'https://twitter.com/chuckforevver/status/446090440237125632', 'image_thumbnail_url': 'https://encrypted-tbn0.gstatic.com/images?q=tbn:ANd9GcSTAstyhtdlWdpQb9h6SXIB5XlDjRXtsanDcNGLLkMd9-zwf21vSw&s'}\n",
      "URLError on an image...trying next one... Error: HTTP Error 404: Not Found\n",
      "\n",
      "Image Metadata: {'image_format': 'jpg', 'image_height': 640, 'image_width': 640, 'image_link': 'https://scontent-yyz1-1.cdninstagram.com/vp/59c09c32ed69510df3e0359b98dd1f9b/5E616BD4/t51.2885-15/sh0.08/e35/s640x640/72358877_933013647076323_676925817055321414_n.jpg?_nc_ht=scontent-yyz1-1.cdninstagram.com&_nc_cat=103', 'image_description': 'gamerforlifeð\\x9f\\x8e® Instagram posts (photos and videos) - Instazu.com', 'image_host': 'instazu.com', 'image_source': 'https://www.instazu.com/tag/gamerforlife%F0%9F%8E%AE', 'image_thumbnail_url': 'https://encrypted-tbn0.gstatic.com/images?q=tbn:ANd9GcSCghXbpxEW9KKJyiwJYZpXpsgpMvw1Xkz27yvFhsc9Pvj-aYOy&s'}\n",
      "Completed Image ====> 12.72358877_933013647076323_676925817055321414_n.jpg\n",
      "\n",
      "Image Metadata: {'image_format': 'jpg', 'image_height': 480, 'image_width': 480, 'image_link': 'https://scontent-lax3-1.cdninstagram.com/v/t51.2885-15/e35/s480x480/77010399_472472330038000_6336111247572818439_n.jpg?_nc_ht=scontent-lax3-1.cdninstagram.com&_nc_cat=104&oh=6dc6c602b844f3a8525a2716f329c898&oe=5E6094F5', 'image_description': 'gamerforlife Instagram - Photo and video on Instagram ...', 'image_host': 'insstoreweb.com', 'image_source': 'https://www.insstoreweb.com/tag/gamerforlife', 'image_thumbnail_url': 'https://encrypted-tbn0.gstatic.com/images?q=tbn:ANd9GcRHtpJGv5DDL00qAP8coRW0h0GLsfProQKTdEAkCSOTqTxF4IIiWA&s'}\n",
      "Completed Image ====> 13.77010399_472472330038000_6336111247572818439_n.jpg\n",
      "\n",
      "Image Metadata: {'image_format': 'jpg', 'image_height': 720, 'image_width': 1280, 'image_link': 'http://i1.ytimg.com/vi/wto11_GuyfQ/maxresdefault.jpg', 'image_description': 'GamerForLife.', 'image_host': 'googlof.info', 'image_source': 'http://googlof.info/search/GamerForLife.', 'image_thumbnail_url': 'https://encrypted-tbn0.gstatic.com/images?q=tbn:ANd9GcQEzG9aqyZvX9ZRwn_cTHdIzAJqABPW9UI2xPG997TJC-hncxkQGg&s'}\n",
      "Completed Image ====> 14.maxresdefault.jpg\n",
      "\n",
      "Image Metadata: {'image_format': 'jpg', 'image_height': 400, 'image_width': 400, 'image_link': 'https://pbs.twimg.com/profile_images/1158541538038882304/nN172NWy_400x400.jpg', 'image_description': 'GamerForLife on Twitter: \"Chipmunk speed even better :)… \"', 'image_host': 'twitter.com', 'image_source': 'https://twitter.com/Chuckforevver/status/1082901460113747968', 'image_thumbnail_url': 'https://encrypted-tbn0.gstatic.com/images?q=tbn:ANd9GcTT6Gl9RXfeiiHV8PlR9CLN0kQbgVsPbJFoXXsV8leXZZ_dqZxu&s'}\n",
      "Completed Image ====> 15.nN172NWy_400x400.jpg\n",
      "\n",
      "Errors: 5\n",
      "\n",
     ]
    }
   ],
   "source": [
    "#instantiate the class\n",
    "engine = google_images_download.googleimagesdownload()\n",
    "argument_dict = {\"keywords\":\"GamerForLife\",\n",
    "                 \"limit\":15,\n",
    "                 \"time_range\":'{\"time_min\":\"05/30/2019\",\"time_max\":\"12/01/2019\"}',\n",
    "                 \"delay\":0.5,\n",
    "                 \"metadata\":True,\n",
    "                 \"extract_metadata\":True\n",
    "                 }\n",
    "\n",
    "paths = engine.download(argument_dict)\n",
    "print(paths)"
   ]
  },
  {
   "cell_type": "code",
   "execution_count": null,
   "metadata": {},
   "outputs": [],
   "source": []
  }
 ],
 "metadata": {
  "kernelspec": {
   "display_name": "Python 3",
   "language": "python",
   "name": "python3"
  },
  "language_info": {
   "codemirror_mode": {
    "name": "ipython",
    "version": 3
   },
   "file_extension": ".py",
   "mimetype": "text/x-python",
   "name": "python",
   "nbconvert_exporter": "python",
   "pygments_lexer": "ipython3",
   "version": "3.7.4"
  }
 },
 "nbformat": 4,
 "nbformat_minor": 2
}
